{
 "cells": [
  {
   "cell_type": "markdown",
   "metadata": {},
   "source": [
    "## Feedforward ANN"
   ]
  },
  {
   "cell_type": "code",
   "execution_count": 63,
   "metadata": {},
   "outputs": [],
   "source": [
    "import math"
   ]
  },
  {
   "cell_type": "code",
   "execution_count": 64,
   "metadata": {},
   "outputs": [],
   "source": [
    "learning_rate = 0.3\n",
    "momentum = 0.9"
   ]
  },
  {
   "cell_type": "code",
   "execution_count": 65,
   "metadata": {},
   "outputs": [],
   "source": [
    "w_ca, w_cb, w_c0, w_dc, w_d0 = 0.1, 0.1, 0.1, 0.1, 0.1"
   ]
  },
  {
   "cell_type": "code",
   "execution_count": 66,
   "metadata": {},
   "outputs": [],
   "source": [
    "# Input Layer\n",
    "a = 1\n",
    "b = 0"
   ]
  },
  {
   "cell_type": "code",
   "execution_count": 67,
   "metadata": {},
   "outputs": [
    {
     "name": "stdout",
     "output_type": "stream",
     "text": [
      "0.2 0.197375320224904\n"
     ]
    }
   ],
   "source": [
    "# Forward Pass\n",
    "net_c = w_ca*a + w_cb*b + w_c0\n",
    "c = math.tanh(net_c)\n",
    "print(net_c, c)"
   ]
  },
  {
   "cell_type": "code",
   "execution_count": 68,
   "metadata": {},
   "outputs": [
    {
     "name": "stdout",
     "output_type": "stream",
     "text": [
      "0.1197375320224904 0.11916856600179997\n"
     ]
    }
   ],
   "source": [
    "net_d = w_dc*c + w_d0\n",
    "d = math.tanh(net_d)\n",
    "print(net_d, d)"
   ]
  },
  {
   "cell_type": "code",
   "execution_count": 69,
   "metadata": {},
   "outputs": [
    {
     "data": {
      "text/plain": [
       "0.38793200755966273"
      ]
     },
     "execution_count": 69,
     "metadata": {},
     "output_type": "execute_result"
    }
   ],
   "source": [
    "# Error\n",
    "t = 1\n",
    "E = 0.5*math.pow(1-d,2)\n",
    "E"
   ]
  },
  {
   "cell_type": "code",
   "execution_count": 70,
   "metadata": {},
   "outputs": [
    {
     "data": {
      "text/plain": [
       "0.8683226172134944"
      ]
     },
     "execution_count": 70,
     "metadata": {},
     "output_type": "execute_result"
    }
   ],
   "source": [
    "# Backpropagation\n",
    "delta_d = (t-d)*(1-d**2)\n",
    "delta_d"
   ]
  },
  {
   "cell_type": "code",
   "execution_count": 71,
   "metadata": {},
   "outputs": [
    {
     "data": {
      "text/plain": [
       "0.08344953582238021"
      ]
     },
     "execution_count": 71,
     "metadata": {},
     "output_type": "execute_result"
    }
   ],
   "source": [
    "delta_c = (delta_d*w_dc)*(1-c**2)\n",
    "delta_c"
   ]
  },
  {
   "cell_type": "code",
   "execution_count": 72,
   "metadata": {},
   "outputs": [
    {
     "name": "stdout",
     "output_type": "stream",
     "text": [
      "0.051415636389312055 0.15141563638931205\n"
     ]
    }
   ],
   "source": [
    "# Update Weights\n",
    "delta_w_dc = learning_rate*delta_d*c\n",
    "w_dc += delta_w_dc\n",
    "print(delta_w_dc, w_dc)"
   ]
  },
  {
   "cell_type": "code",
   "execution_count": 73,
   "metadata": {},
   "outputs": [
    {
     "name": "stdout",
     "output_type": "stream",
     "text": [
      "0.2604967851640483 0.36049678516404826\n"
     ]
    }
   ],
   "source": [
    "delta_w_d0 = learning_rate*delta_d\n",
    "w_d0 += delta_w_d0\n",
    "print(delta_w_d0, w_d0)"
   ]
  },
  {
   "cell_type": "code",
   "execution_count": 74,
   "metadata": {},
   "outputs": [
    {
     "name": "stdout",
     "output_type": "stream",
     "text": [
      "0.02503486074671406 0.12503486074671408\n"
     ]
    }
   ],
   "source": [
    "delta_w_ca = learning_rate*delta_c*a\n",
    "w_ca += delta_w_ca\n",
    "print(delta_w_ca, w_ca)"
   ]
  },
  {
   "cell_type": "code",
   "execution_count": 75,
   "metadata": {},
   "outputs": [
    {
     "name": "stdout",
     "output_type": "stream",
     "text": [
      "0.02503486074671406 0.12503486074671408\n"
     ]
    }
   ],
   "source": [
    "delta_w_c0 = learning_rate*delta_c\n",
    "w_c0 += delta_w_c0\n",
    "print(delta_w_c0, w_c0)"
   ]
  },
  {
   "cell_type": "code",
   "execution_count": 76,
   "metadata": {},
   "outputs": [
    {
     "name": "stdout",
     "output_type": "stream",
     "text": [
      "0.0 0.1\n"
     ]
    }
   ],
   "source": [
    "delta_w_cb = learning_rate*delta_c*b\n",
    "w_cb += delta_w_cb\n",
    "print(delta_w_cb, w_cb)"
   ]
  },
  {
   "cell_type": "code",
   "execution_count": 77,
   "metadata": {},
   "outputs": [
    {
     "name": "stdout",
     "output_type": "stream",
     "text": [
      "0.12503486074671408 0.1 0.12503486074671408 0.15141563638931205 0.36049678516404826\n"
     ]
    }
   ],
   "source": [
    "print(w_ca, w_cb, w_c0, w_dc, w_d0)"
   ]
  },
  {
   "cell_type": "markdown",
   "metadata": {},
   "source": [
    "## 2nd iteration using 2nd training example"
   ]
  },
  {
   "cell_type": "code",
   "execution_count": 78,
   "metadata": {},
   "outputs": [],
   "source": [
    "# Forward Pass\n",
    "a = 0\n",
    "b = 1"
   ]
  },
  {
   "cell_type": "code",
   "execution_count": 79,
   "metadata": {},
   "outputs": [
    {
     "name": "stdout",
     "output_type": "stream",
     "text": [
      "0.22503486074671408 0.22131162146220806\n"
     ]
    }
   ],
   "source": [
    "net_c = w_ca*a + w_cb*b + w_c0\n",
    "c = math.tanh(net_c)\n",
    "print(net_c, c)"
   ]
  },
  {
   "cell_type": "code",
   "execution_count": 80,
   "metadata": {},
   "outputs": [
    {
     "name": "stdout",
     "output_type": "stream",
     "text": [
      "0.39400682516809904 0.3748093274873212\n"
     ]
    }
   ],
   "source": [
    "net_d = w_dc*c + w_d0\n",
    "d =  math.tanh(net_d)\n",
    "print(net_d, d)"
   ]
  },
  {
   "cell_type": "code",
   "execution_count": 81,
   "metadata": {},
   "outputs": [
    {
     "data": {
      "text/plain": [
       "0.070241015985749"
      ]
     },
     "execution_count": 81,
     "metadata": {},
     "output_type": "execute_result"
    }
   ],
   "source": [
    "# Error\n",
    "t = 0\n",
    "E = 0.5*math.pow(t-d,2)\n",
    "E"
   ]
  },
  {
   "cell_type": "code",
   "execution_count": 82,
   "metadata": {},
   "outputs": [
    {
     "data": {
      "text/plain": [
       "-0.32215535156003167"
      ]
     },
     "execution_count": 82,
     "metadata": {},
     "output_type": "execute_result"
    }
   ],
   "source": [
    "# Backpropagation\n",
    "delta_d = (t-d)*(1-d**2)\n",
    "delta_d"
   ]
  },
  {
   "cell_type": "code",
   "execution_count": 83,
   "metadata": {},
   "outputs": [
    {
     "data": {
      "text/plain": [
       "-0.04639020152554283"
      ]
     },
     "execution_count": 83,
     "metadata": {},
     "output_type": "execute_result"
    }
   ],
   "source": [
    "delta_c = (delta_d*w_dc)*(1-c**2)\n",
    "delta_c"
   ]
  },
  {
   "cell_type": "code",
   "execution_count": 84,
   "metadata": {},
   "outputs": [
    {
     "name": "stdout",
     "output_type": "stream",
     "text": [
      "0.024885055785437368 0.17630069217474942\n"
     ]
    }
   ],
   "source": [
    "delta_w_dc = learning_rate*delta_d*c + momentum*delta_w_dc\n",
    "w_dc += delta_w_dc\n",
    "print(delta_w_dc, w_dc)"
   ]
  },
  {
   "cell_type": "code",
   "execution_count": 85,
   "metadata": {},
   "outputs": [
    {
     "name": "stdout",
     "output_type": "stream",
     "text": [
      "0.13780050117963394 0.4982972863436822\n"
     ]
    }
   ],
   "source": [
    "delta_w_d0 = learning_rate*delta_d + momentum*delta_w_d0\n",
    "w_d0 += delta_w_d0\n",
    "print(delta_w_d0, w_d0)"
   ]
  },
  {
   "cell_type": "code",
   "execution_count": 86,
   "metadata": {},
   "outputs": [
    {
     "name": "stdout",
     "output_type": "stream",
     "text": [
      "0.022531374672042654 0.14756623541875674\n"
     ]
    }
   ],
   "source": [
    "delta_w_ca = learning_rate*delta_c*a + momentum*delta_w_ca\n",
    "w_ca += delta_w_ca\n",
    "print(delta_w_ca, w_ca)"
   ]
  },
  {
   "cell_type": "code",
   "execution_count": 87,
   "metadata": {},
   "outputs": [
    {
     "name": "stdout",
     "output_type": "stream",
     "text": [
      "-0.013917060457662849 0.08608293954233716\n"
     ]
    }
   ],
   "source": [
    "delta_w_cb = learning_rate*delta_c*b + momentum*delta_w_cb\n",
    "w_cb += delta_w_cb\n",
    "print(delta_w_cb, w_cb)"
   ]
  },
  {
   "cell_type": "code",
   "execution_count": 88,
   "metadata": {},
   "outputs": [
    {
     "name": "stdout",
     "output_type": "stream",
     "text": [
      "0.008614314214379805 0.13364917496109388\n"
     ]
    }
   ],
   "source": [
    "delta_w_c0 = learning_rate*delta_c + momentum*delta_w_c0\n",
    "w_c0 += delta_w_c0\n",
    "print(delta_w_c0, w_c0)"
   ]
  },
  {
   "cell_type": "code",
   "execution_count": 89,
   "metadata": {},
   "outputs": [
    {
     "name": "stdout",
     "output_type": "stream",
     "text": [
      "0.14756623541875674 0.08608293954233716 0.13364917496109388 0.17630069217474942 0.4982972863436822\n"
     ]
    }
   ],
   "source": [
    "print(w_ca, w_cb, w_c0, w_dc, w_d0)"
   ]
  },
  {
   "cell_type": "markdown",
   "metadata": {},
   "source": [
    "|Iteration|w_ca|w_cb|w_c0|w_dc|w_d0|\n",
    "| --      | -- | -- | -- | -- | -- |\n",
    "| 0       | 0.1| 0.1| 0.1| 0.1| 0.1|\n",
    "| 1       | 0.12503486074671408 | 0.1 | 0.12503486074671408 | 0.15141563638931205 | 0.36049678516404826|\n",
    "| 2       | 0.14756623541875674 | 0.08608293954233716 | 0.13364917496109388 | 0.17630069217474942 | 0.4982972863436822|"
   ]
  },
  {
   "cell_type": "markdown",
   "metadata": {},
   "source": []
  },
  {
   "cell_type": "code",
   "execution_count": 92,
   "metadata": {},
   "outputs": [
    {
     "data": {
      "text/plain": [
       "0.1260148840162522"
      ]
     },
     "execution_count": 92,
     "metadata": {},
     "output_type": "execute_result"
    }
   ],
   "source": [
    "# Input Layer\n",
    "a = 1\n",
    "b = 0\n",
    "net_c = w_ca*a + w_cb*b + w_c0\n",
    "c = math.tanh(net_c)\n",
    "net_d = w_dc*c + w_d0\n",
    "d =  math.tanh(net_d)\n",
    "t = 1\n",
    "E = 0.5*math.pow(t-d,2)\n",
    "E\n"
   ]
  },
  {
   "cell_type": "code",
   "execution_count": 93,
   "metadata": {},
   "outputs": [
    {
     "data": {
      "text/plain": [
       "0.12018563061080424"
      ]
     },
     "execution_count": 93,
     "metadata": {},
     "output_type": "execute_result"
    }
   ],
   "source": [
    "# Input Layer\n",
    "a = 0\n",
    "b = 1\n",
    "net_c = w_ca*a + w_cb*b + w_c0\n",
    "c = math.tanh(net_c)\n",
    "net_d = w_dc*c + w_d0\n",
    "d =  math.tanh(net_d)\n",
    "t = 0\n",
    "E = 0.5*math.pow(t-d,2)\n",
    "E\n"
   ]
  },
  {
   "cell_type": "code",
   "execution_count": null,
   "metadata": {},
   "outputs": [],
   "source": []
  }
 ],
 "metadata": {
  "kernelspec": {
   "display_name": "Python 3 (ipykernel)",
   "language": "python",
   "name": "python3"
  },
  "language_info": {
   "codemirror_mode": {
    "name": "ipython",
    "version": 3
   },
   "file_extension": ".py",
   "mimetype": "text/x-python",
   "name": "python",
   "nbconvert_exporter": "python",
   "pygments_lexer": "ipython3",
   "version": "3.10.8"
  },
  "orig_nbformat": 4
 },
 "nbformat": 4,
 "nbformat_minor": 2
}
