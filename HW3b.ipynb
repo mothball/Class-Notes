{
 "cells": [
  {
   "cell_type": "markdown",
   "metadata": {},
   "source": [
    "## Feedforward ANN"
   ]
  },
  {
   "cell_type": "code",
   "execution_count": 94,
   "metadata": {},
   "outputs": [],
   "source": [
    "import math"
   ]
  },
  {
   "cell_type": "code",
   "execution_count": 95,
   "metadata": {},
   "outputs": [],
   "source": [
    "learning_rate, momentum = 0.3, 0.9"
   ]
  },
  {
   "cell_type": "code",
   "execution_count": 96,
   "metadata": {},
   "outputs": [],
   "source": [
    "w_ca, w_cb, w_c0, w_dc, w_d0 = 0.1, 0.1, 0.1, 0.1, 0.1"
   ]
  },
  {
   "cell_type": "code",
   "execution_count": 97,
   "metadata": {},
   "outputs": [],
   "source": [
    "# Input Layer\n",
    "a, b = 1, 0"
   ]
  },
  {
   "cell_type": "code",
   "execution_count": 98,
   "metadata": {},
   "outputs": [
    {
     "name": "stdout",
     "output_type": "stream",
     "text": [
      "0.2 0.197375320224904\n"
     ]
    }
   ],
   "source": [
    "# Forward Pass\n",
    "net_c = w_ca*a + w_cb*b + w_c0\n",
    "c = math.tanh(net_c)\n",
    "print(net_c, c)"
   ]
  },
  {
   "cell_type": "code",
   "execution_count": 99,
   "metadata": {},
   "outputs": [
    {
     "name": "stdout",
     "output_type": "stream",
     "text": [
      "0.1197375320224904 0.11916856600179997\n"
     ]
    }
   ],
   "source": [
    "net_d = w_dc*c + w_d0\n",
    "d = math.tanh(net_d)\n",
    "print(net_d, d)"
   ]
  },
  {
   "cell_type": "code",
   "execution_count": 100,
   "metadata": {},
   "outputs": [
    {
     "name": "stdout",
     "output_type": "stream",
     "text": [
      "0.38793200755966273\n"
     ]
    }
   ],
   "source": [
    "# Error\n",
    "t = 1\n",
    "E = 0.5*math.pow(t-d,2)\n",
    "print(E)"
   ]
  },
  {
   "cell_type": "code",
   "execution_count": 101,
   "metadata": {},
   "outputs": [
    {
     "name": "stdout",
     "output_type": "stream",
     "text": [
      "0.8683226172134944 0.08344953582238021\n"
     ]
    }
   ],
   "source": [
    "# Backpropagation\n",
    "delta_d = (t-d)*(1-d**2)\n",
    "delta_c = (delta_d*w_dc)*(1-c**2)\n",
    "print(delta_d, delta_c)"
   ]
  },
  {
   "cell_type": "code",
   "execution_count": 102,
   "metadata": {},
   "outputs": [
    {
     "name": "stdout",
     "output_type": "stream",
     "text": [
      "0.051415636389312055 0.15141563638931205\n"
     ]
    }
   ],
   "source": [
    "# Update Weights\n",
    "delta_w_dc = learning_rate*delta_d*c\n",
    "w_dc += delta_w_dc\n",
    "print(delta_w_dc, w_dc)"
   ]
  },
  {
   "cell_type": "code",
   "execution_count": 103,
   "metadata": {},
   "outputs": [
    {
     "name": "stdout",
     "output_type": "stream",
     "text": [
      "0.2604967851640483 0.36049678516404826\n"
     ]
    }
   ],
   "source": [
    "delta_w_d0 = learning_rate*delta_d\n",
    "w_d0 += delta_w_d0\n",
    "print(delta_w_d0, w_d0)"
   ]
  },
  {
   "cell_type": "code",
   "execution_count": 104,
   "metadata": {},
   "outputs": [
    {
     "name": "stdout",
     "output_type": "stream",
     "text": [
      "0.02503486074671406 0.12503486074671408\n"
     ]
    }
   ],
   "source": [
    "delta_w_ca = learning_rate*delta_c*a\n",
    "w_ca += delta_w_ca\n",
    "print(delta_w_ca, w_ca)"
   ]
  },
  {
   "cell_type": "code",
   "execution_count": 105,
   "metadata": {},
   "outputs": [
    {
     "name": "stdout",
     "output_type": "stream",
     "text": [
      "0.02503486074671406 0.12503486074671408\n"
     ]
    }
   ],
   "source": [
    "delta_w_c0 = learning_rate*delta_c\n",
    "w_c0 += delta_w_c0\n",
    "print(delta_w_c0, w_c0)"
   ]
  },
  {
   "cell_type": "code",
   "execution_count": 106,
   "metadata": {},
   "outputs": [
    {
     "name": "stdout",
     "output_type": "stream",
     "text": [
      "0.0 0.1\n"
     ]
    }
   ],
   "source": [
    "delta_w_cb = learning_rate*delta_c*b\n",
    "w_cb += delta_w_cb\n",
    "print(delta_w_cb, w_cb)"
   ]
  },
  {
   "cell_type": "code",
   "execution_count": 107,
   "metadata": {},
   "outputs": [
    {
     "name": "stdout",
     "output_type": "stream",
     "text": [
      "0.12503486074671408 0.1 0.12503486074671408 0.15141563638931205 0.36049678516404826\n"
     ]
    }
   ],
   "source": [
    "print(w_ca, w_cb, w_c0, w_dc, w_d0)"
   ]
  },
  {
   "cell_type": "markdown",
   "metadata": {},
   "source": [
    "## 2nd iteration using 2nd training example"
   ]
  },
  {
   "cell_type": "code",
   "execution_count": 108,
   "metadata": {},
   "outputs": [],
   "source": [
    "# Forward Pass\n",
    "a, b = 0, 1"
   ]
  },
  {
   "cell_type": "code",
   "execution_count": 109,
   "metadata": {},
   "outputs": [
    {
     "name": "stdout",
     "output_type": "stream",
     "text": [
      "0.22503486074671408 0.22131162146220806\n"
     ]
    }
   ],
   "source": [
    "net_c = w_ca*a + w_cb*b + w_c0\n",
    "c = math.tanh(net_c)\n",
    "print(net_c, c)"
   ]
  },
  {
   "cell_type": "code",
   "execution_count": 110,
   "metadata": {},
   "outputs": [
    {
     "name": "stdout",
     "output_type": "stream",
     "text": [
      "0.39400682516809904 0.3748093274873212\n"
     ]
    }
   ],
   "source": [
    "net_d = w_dc*c + w_d0\n",
    "d =  math.tanh(net_d)\n",
    "print(net_d, d)"
   ]
  },
  {
   "cell_type": "code",
   "execution_count": 111,
   "metadata": {},
   "outputs": [
    {
     "name": "stdout",
     "output_type": "stream",
     "text": [
      "0.070241015985749\n"
     ]
    }
   ],
   "source": [
    "# Error\n",
    "t = 0\n",
    "E = 0.5*math.pow(t-d,2)\n",
    "print(E)"
   ]
  },
  {
   "cell_type": "code",
   "execution_count": 112,
   "metadata": {},
   "outputs": [
    {
     "name": "stdout",
     "output_type": "stream",
     "text": [
      "-0.32215535156003167 -0.04639020152554283\n"
     ]
    }
   ],
   "source": [
    "# Backpropagation\n",
    "delta_d = (t-d)*(1-d**2)\n",
    "delta_c = (delta_d*w_dc)*(1-c**2)\n",
    "print(delta_d, delta_c)"
   ]
  },
  {
   "cell_type": "code",
   "execution_count": 113,
   "metadata": {},
   "outputs": [
    {
     "name": "stdout",
     "output_type": "stream",
     "text": [
      "0.024885055785437368 0.17630069217474942\n"
     ]
    }
   ],
   "source": [
    "delta_w_dc = learning_rate*delta_d*c + momentum*delta_w_dc\n",
    "w_dc += delta_w_dc\n",
    "print(delta_w_dc, w_dc)"
   ]
  },
  {
   "cell_type": "code",
   "execution_count": 114,
   "metadata": {},
   "outputs": [
    {
     "name": "stdout",
     "output_type": "stream",
     "text": [
      "0.13780050117963394 0.4982972863436822\n"
     ]
    }
   ],
   "source": [
    "delta_w_d0 = learning_rate*delta_d + momentum*delta_w_d0\n",
    "w_d0 += delta_w_d0\n",
    "print(delta_w_d0, w_d0)"
   ]
  },
  {
   "cell_type": "code",
   "execution_count": 115,
   "metadata": {},
   "outputs": [
    {
     "name": "stdout",
     "output_type": "stream",
     "text": [
      "0.022531374672042654 0.14756623541875674\n"
     ]
    }
   ],
   "source": [
    "delta_w_ca = learning_rate*delta_c*a + momentum*delta_w_ca\n",
    "w_ca += delta_w_ca\n",
    "print(delta_w_ca, w_ca)"
   ]
  },
  {
   "cell_type": "code",
   "execution_count": 116,
   "metadata": {},
   "outputs": [
    {
     "name": "stdout",
     "output_type": "stream",
     "text": [
      "-0.013917060457662849 0.08608293954233716\n"
     ]
    }
   ],
   "source": [
    "delta_w_cb = learning_rate*delta_c*b + momentum*delta_w_cb\n",
    "w_cb += delta_w_cb\n",
    "print(delta_w_cb, w_cb)"
   ]
  },
  {
   "cell_type": "code",
   "execution_count": 117,
   "metadata": {},
   "outputs": [
    {
     "name": "stdout",
     "output_type": "stream",
     "text": [
      "0.008614314214379805 0.13364917496109388\n"
     ]
    }
   ],
   "source": [
    "delta_w_c0 = learning_rate*delta_c + momentum*delta_w_c0\n",
    "w_c0 += delta_w_c0\n",
    "print(delta_w_c0, w_c0)"
   ]
  },
  {
   "cell_type": "code",
   "execution_count": 118,
   "metadata": {},
   "outputs": [
    {
     "name": "stdout",
     "output_type": "stream",
     "text": [
      "0.14756623541875674 0.08608293954233716 0.13364917496109388 0.17630069217474942 0.4982972863436822\n"
     ]
    }
   ],
   "source": [
    "print(w_ca, w_cb, w_c0, w_dc, w_d0)"
   ]
  },
  {
   "cell_type": "markdown",
   "metadata": {},
   "source": [
    "|Iteration|w_ca|w_cb|w_c0|w_dc|w_d0|\n",
    "| --      | -- | -- | -- | -- | -- |\n",
    "| 0       | 0.1| 0.1| 0.1| 0.1| 0.1|\n",
    "| 1       | 0.12503486074671408 | 0.1 | 0.12503486074671408 | 0.15141563638931205 | 0.36049678516404826|\n",
    "| 2       | 0.14756623541875674 | 0.08608293954233716 | 0.13364917496109388 | 0.17630069217474942 | 0.4982972863436822|"
   ]
  },
  {
   "cell_type": "markdown",
   "metadata": {},
   "source": []
  },
  {
   "cell_type": "code",
   "execution_count": 119,
   "metadata": {},
   "outputs": [
    {
     "name": "stdout",
     "output_type": "stream",
     "text": [
      "0.1260148840162522\n"
     ]
    }
   ],
   "source": [
    "# Retest error with latest weights\n",
    "a, b, t = 1, 0, 1\n",
    "net_c = w_ca*a + w_cb*b + w_c0\n",
    "c = math.tanh(net_c)\n",
    "net_d = w_dc*c + w_d0\n",
    "d =  math.tanh(net_d)\n",
    "E = 0.5*math.pow(t-d,2)\n",
    "print(E)\n"
   ]
  },
  {
   "cell_type": "code",
   "execution_count": 120,
   "metadata": {},
   "outputs": [
    {
     "name": "stdout",
     "output_type": "stream",
     "text": [
      "0.12018563061080424\n"
     ]
    }
   ],
   "source": [
    "# Input Layer\n",
    "a, b, t = 0, 1, 0\n",
    "net_c = w_ca*a + w_cb*b + w_c0\n",
    "c = math.tanh(net_c)\n",
    "net_d = w_dc*c + w_d0\n",
    "d =  math.tanh(net_d)\n",
    "E = 0.5*math.pow(t-d,2)\n",
    "print(E)\n"
   ]
  },
  {
   "cell_type": "code",
   "execution_count": null,
   "metadata": {},
   "outputs": [],
   "source": []
  }
 ],
 "metadata": {
  "kernelspec": {
   "display_name": "Python 3 (ipykernel)",
   "language": "python",
   "name": "python3"
  },
  "language_info": {
   "codemirror_mode": {
    "name": "ipython",
    "version": 3
   },
   "file_extension": ".py",
   "mimetype": "text/x-python",
   "name": "python",
   "nbconvert_exporter": "python",
   "pygments_lexer": "ipython3",
   "version": "3.10.8"
  },
  "orig_nbformat": 4
 },
 "nbformat": 4,
 "nbformat_minor": 2
}
